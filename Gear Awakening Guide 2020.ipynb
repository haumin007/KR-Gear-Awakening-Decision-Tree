{
 "cells": [
  {
   "cell_type": "markdown",
   "metadata": {},
   "source": [
    "# Foreword\n",
    "\n",
    "With the new awakening system QoL changes, player can now use multiple 0★ gears in 1 attempt of gear awakening. Unsure on whether this could open up new optimize route for awakening, I decided to developed a script in place to do the exploration.\n",
    "\n",
    "Similar to the old reddit guide: https://www.reddit.com/r/Kings_Raid/comments/7doken/guide_optimal_gear_awakening_strategy/ ,\n",
    "I use a decision-tree based method to calculate the average cost of awakening gear. I think the old thread did a very good explanation of this decision-tree approach, so I will skip it, you can refer to the hyperlink above for the gist of it. Basically the script just walk down all the possible routes in the decision-tree of awakening gear, and find the route that __on average__ cost us the least amount of gear.\n",
    "\n",
    "To ease the computation load, I omitted routes where a higher ★ gear is used after lower ★ gear. For example, once you had used a 2★ gear as fodder for awakening, the program will no longer consider taking the route of using even higher ★ gear (>= 3★) for awakening (so no such route as using a 2★, then a 3★, etc, because it doesnt make sense for these routes to be optimal anyway)\n",
    "\n",
    "\n",
    "\n",
    "# Basic Script Explanation\n",
    "\n",
    "Very nerdy and unnecessary stuff here just for reference, so those who are interested can know in details how the script works ~~and scold/flame/bash me for writing such an ameteur script with super poor explanation~~.\n",
    "\n",
    "A node is simply a point in decision-tree, it may be a starting node, or it may had already walk down a few other nodes before it. All the previous route(s) taken by this node will be recorded within it, and it would also had calculated the average cost, as well as the cumulated probability up until this node, given the routes it has taken previously.\n",
    "\n",
    "A node is represented by a NamedTuple in Python. Which is simply a container that store information based on name:\n",
    "\n",
    ".history = List, stored number of gear used in all prev attempts of this Node\n",
    "\n",
    ".fail_bonus = float, failure bonus if continue to awaken from this node\n",
    "\n",
    ".cum_prob = List, stored the probability of end up success in all the previous route(s) taken by this Node\n",
    "\n",
    ".cum_avg = float, cumulated average gear used for awakening up until this node (usually an incomplete calculation, only completed when node ended)\n",
    "\n",
    ".ended = Boolean, whether this node had reached its end point in decision tree\n",
    "\n",
    "\n",
    "The script first assess all the possible starting point (e.g: from 3★ to 4★, the starting point could be using 1,2,3,4,5,6,7 number of gear (N) for awakening, using 8 gear is not considered a valid choice because you had reached 100% success chance)\n",
    "\n",
    "Once it knows all the possible starting point, it will initiate the first node in the decision-tree using the largest N available in the list, calculate all the info (cum_prob, cum_avg, etc) for this node, and put this single starting node into a List (nodes_list). \n",
    "\n",
    "Then, the program will loop infinitely until the nodes_list is exhausted, and do the following:\n",
    "\n",
    "1. Take one of the node from the list, remove/exhaust it from the nodes_list \n",
    "2. Assess all the different possible route(s) to take next for this node\n",
    "3. Calculate the next node for every possible route(s) found above.\n",
    "4. If those newly calculated node(s) is ended (reach 100% success chance due to the piling up of failure bonus, or when it reach 0% increment in failure bonus - which is the infinite decision tree route), their result will be recorded and reported at the end of the script run.\n",
    "5. Else if, those node(s) still have possible route(s) to go on, they will all be added back to the nodes_list.\n",
    "\n",
    "(So although nodes_list started with only 1 node, more nodes will subsequently be added to this List as the program walk down the different possible routes and create a node for each of the route undertaken)\n",
    "\n",
    "The above script will loop until every nodes in nodes_list reached its end. \n",
    "\n",
    "Then the next possible starting point will be used to initiate yet another single starting node, and put into the List (nodes_list). Then the program will loop again, until all the routes using these new starting point are also processed as above (i to v).\n",
    "\n",
    "Then the next possible starting point will be used... and so on... and so on... until all possible starting point was also exhausted. Then the scipt ends here and reported all the results, sorting for the lowest average cost route.\n",
    "\n",
    "\n",
    "# Difference with Old Guide\n",
    "\n",
    "There are a few difference to the old thread as well:\n",
    "\n",
    "Firstly, for 2★ gear and beyond, I believed the old guide only consider the \"Actual Cost\" of the gear in its decision tree calculation. For example, since it has been found out from its 1★ to 2★ decision-tree that a 2★ gear will need an average of 3.7012 0★ gear to make, the cost of using 2★ gear as fodder to awaken was treated as 3.7012 0★ gear (I will call this \"Actual Cost\"), not 4 piece of 0★ gear which will be the cost for going 100% success route to make 2★ fodder. (I will call this \"Raw Cost\").\n",
    "\n",
    "The thing is... too often I had heard people said that they are NOT going to gamble for awakening a 2 star fodder because the potential gain is too low and the largest possible loss is just too large. As such, in my script, I had attempted the decision-tree calculation both with using the \"Actual Cost\" and the \"Raw Cost\", and it actually does return slightly different result for these two cases, at least for the 4★ to 5★ decision-tree where 2★ fodder is actually used.\n",
    "\n",
    "\n",
    "Next, for case of awakening with 0% increment in failure bonus (infinite route in decision-tree), the old guide used a calculus(?) based approach to get the average cost of taking that branch. Unfortunately, I had returned most of my math knowledge to my teacher since I graduated, and cannot wrap my head around how he arrive with the formula (https://pastebin.com/qKLDXS0M line 135-159). Personally, my intuition is telling me the incremental cost from taking this branch should just be (1/P), not the ((1/P) - 1) in the old guide code. \n",
    "\n",
    "Anyway, to be safe in term of math, I am using a more \"brute-force\" method. Whenever a node in decision tree reached such infinite route, it will continue to walk down the infinite route for 1000 times before it was forced ended and report its average cost result. I can assure you that 1000 time is alot and will confidently give you the true result.\n"
   ]
  },
  {
   "cell_type": "code",
   "execution_count": 1,
   "metadata": {},
   "outputs": [],
   "source": [
    "from collections import namedtuple"
   ]
  },
  {
   "cell_type": "code",
   "execution_count": 2,
   "metadata": {},
   "outputs": [],
   "source": [
    "# A node is used to store information on any point in a decision tree\n",
    "\n",
    "Node = namedtuple('Node', ['history', 'fail_bonus', 'cum_prob' , 'cum_avg', 'ended'])"
   ]
  },
  {
   "cell_type": "code",
   "execution_count": 3,
   "metadata": {},
   "outputs": [],
   "source": [
    "# Initiliaze a starting \"zero\" node\n",
    "\n",
    "zero_node = Node(history=[],\n",
    "                fail_bonus=0,\n",
    "                cum_prob=[],\n",
    "                cum_avg=0,\n",
    "                ended=False)"
   ]
  },
  {
   "cell_type": "code",
   "execution_count": 4,
   "metadata": {},
   "outputs": [
    {
     "data": {
      "text/plain": [
       "Node(history=[], fail_bonus=0, cum_prob=[], cum_avg=0, ended=False)"
      ]
     },
     "execution_count": 4,
     "metadata": {},
     "output_type": "execute_result"
    }
   ],
   "source": [
    "zero_node"
   ]
  },
  {
   "cell_type": "code",
   "execution_count": 5,
   "metadata": {},
   "outputs": [],
   "source": [
    "count_to_star_dict = {1:\"0★\", 2:\"1★\", 3:\"1★+0★\", 4:\"2★\", 5:\"2★+0★\", 6:\"2★+1★\", 7:\"2★+1★+0★\", 8:\"3★\", 9:\"3★+0★\",\n",
    "                         10:\"3★+1★\", 11:\"3★+1★+0★\", 12:\"3★+2★\", 13:\"3★+2★+0★\", 14:\"3★+2★+1★\", 15:\"3★+2★+1*+0★\", 16:\"4★\"}"
   ]
  },
  {
   "cell_type": "code",
   "execution_count": 6,
   "metadata": {},
   "outputs": [],
   "source": [
    "def Round_Down(float_number): # To get the exact failure bonus in KR\n",
    "    return (int(float_number*100))/100"
   ]
  },
  {
   "cell_type": "code",
   "execution_count": 7,
   "metadata": {},
   "outputs": [],
   "source": [
    "def Dump_Down_History(LIST):\n",
    "    \n",
    "    '''\n",
    "    Format output result from Node.history list to be more human friendly. Reduce the final spam route with a \"+\" sign.\n",
    "    \n",
    "    Input:\n",
    "        LIST: list, from Node.history \n",
    "        \n",
    "    Output:\n",
    "        LIST: list, a more human readable version of Node.hisotry \n",
    "    '''\n",
    "    \n",
    "    index_list = range(len(LIST)-1)\n",
    "    \n",
    "    for i in index_list:\n",
    "        \n",
    "        if len(set(LIST[i:])) <= 1: # All item is the same in this slice of list start from index i to the end\n",
    "            return LIST[:i+1] + [\"+\"]\n",
    "        else:\n",
    "            continue\n",
    "            \n",
    "    return LIST # No processing is needed, return original list"
   ]
  },
  {
   "cell_type": "code",
   "execution_count": 8,
   "metadata": {},
   "outputs": [],
   "source": [
    "def calc_new_node(PREV_NODE, N, USE_ACTUAL_COST):\n",
    "    \n",
    "    '''\n",
    "    \n",
    "    Calculate the next node in the decision tree. Given the previous node (PREV_NODE), \n",
    "    and the number of gear (N) that you are putting in for this round of awakening. \n",
    "    \n",
    "    \n",
    "    Input:\n",
    "    \n",
    "        PREV_NODE = NamedTuple, from the previous node, contains the following name:\n",
    "            .history = List, stored number of gear used in all prev attempts of this Node\n",
    "            .fail_bonus = float, failure bonus if continue awakening from this node\n",
    "            .cum_prob = float, cumulated probability of reaching this node\n",
    "            .cum_avg = float, cumulated average gear use (incomplete calculation, only complete when Node ended)\n",
    "            .ended = Boolean, whether this node had reached its end of calculation\n",
    "            \n",
    "        N = integer, number of gear to use for this round of awakening\n",
    "        \n",
    "        USE_ACTUAL_COST = Boolean. If True, use the \"Actual Cost\" of ★ gear. Else use the \"Raw Cost\"\n",
    "    \n",
    "    Output:\n",
    "    \n",
    "        A new Node after current round of awakening\n",
    "    \n",
    "    '''\n",
    "    \n",
    "    global chance_dict\n",
    "    global cost_dict\n",
    "    \n",
    "    cur_chance = min( 1, chance_dict[N] + PREV_NODE.fail_bonus) # Success chance for this round of awakening, capped at 100%\n",
    "    cur_fail_bonus = Round_Down(chance_dict[N]/3) # If this node failed T.T , this is the amount of fail bonus that will be added\n",
    "    \n",
    "    ## Two cases for calculating average gear used for this node, one where there is still failure bonus (finite); one where failure bonus = 0\n",
    "    # Case1\n",
    "    if cur_fail_bonus >= 0.01: # Fail bonus >= 1% ; finite cases\n",
    "\n",
    "        # Average gear used for this node: (Probability of reaching this node)(Probability of awakening success)(Cumulated gear used up to and include this node)\n",
    "        #                                (1 - cumulated_probability)(cur_chance)(cumulated_gear_used)\n",
    "        \n",
    "        if USE_ACTUAL_COST: \n",
    "            total_used = sum([cost_dict.get(count) for count in PREV_NODE.history]) + cost_dict.get(N)\n",
    "        else:\n",
    "            total_used = sum(PREV_NODE.history) + N\n",
    "            \n",
    "        cur_prob = [ (1-sum(PREV_NODE.cum_prob)) * (cur_chance) ]\n",
    "        cur_avg =  cur_prob[0] * (total_used)\n",
    "        cur_list = [N] # item to be append to the history list\n",
    "        \n",
    "        node_ended = (cur_chance >= 1) # True when reached 100% enhance success rate due to prev accumulated failure bonus. Node ended here\n",
    "                                       # False otherwise\n",
    "    # Case2    \n",
    "    else: # Not even 1% of failure bonus, infinite cases calculation. Node also ended here\n",
    "        \n",
    "        cur_avg = 0\n",
    "        cur_prob = []\n",
    "        cur_list = [] # item to be append to the history list\n",
    "        \n",
    "        if USE_ACTUAL_COST:\n",
    "            total_used = sum([cost_dict.get(count) for count in PREV_NODE.history])\n",
    "        else:\n",
    "            total_used = sum(PREV_NODE.history) \n",
    "\n",
    "        for x in range(1000): ## Large n to simulate n = infinity, doing infinite decision tree calculation. n=1000 is more than overkill\n",
    "\n",
    "            total_used += N\n",
    "            xth_prob = (1-sum(PREV_NODE.cum_prob)) * ((1-cur_chance)**x) * cur_chance\n",
    "            #          (walk thru finite case      (Walk thru current x-th\n",
    "            #           decision tree)              node's prob of success)\n",
    "\n",
    "            xth_avg = total_used * xth_prob\n",
    "            cur_avg += xth_avg\n",
    "            \n",
    "            if x <= 30: # Only append 30 more result to the list to save memory, the real decision tree calc still go to 1000 time\n",
    "                cur_prob.append(xth_prob)\n",
    "                cur_list.append(N)\n",
    "            \n",
    "        node_ended = True\n",
    "        \n",
    "    returned_node = Node( history = PREV_NODE.history + cur_list,\n",
    "                          fail_bonus = PREV_NODE.fail_bonus + cur_fail_bonus,\n",
    "                          cum_prob = PREV_NODE.cum_prob + cur_prob,\n",
    "                          cum_avg = PREV_NODE.cum_avg + cur_avg,\n",
    "                          ended = node_ended)\n",
    "        \n",
    "    return returned_node\n",
    "    "
   ]
  },
  {
   "cell_type": "code",
   "execution_count": 9,
   "metadata": {},
   "outputs": [],
   "source": [
    "## real calc to find optimized route for awakening gear, given the possible list of N (Number of gear use for awakening),\n",
    "#  and the dictionary that pair N with success rate\n",
    "\n",
    "def Find_Opt_Route(N_LIST, use_actual_cost=False):\n",
    "    \n",
    "    '''\n",
    "    This function create the first node for every possible value of N, add that Node into the nodes_list.\n",
    "    Afterwards, the function will infinitely take out the last item in nodes_list, used it to calculate\n",
    "    all the possible next nodes. If those nodes had reached its end point (100% starring success chance /\n",
    "    0% failure bonus - infinite route), the ended nodes will be append to another list called ended_nodes. Else\n",
    "    if the nodes is not yet ended, append the newly created nodes into nodes_list.\n",
    "    \n",
    "    When all the nodes in nodes_list were ended. The function return the list ended_nodes. The list contained\n",
    "    all the possible end points in your decision tree.\n",
    "    \n",
    "    '''\n",
    "    \n",
    "    ended_nodes = []\n",
    "\n",
    "    for n in N_LIST: ## Different starting point\n",
    "\n",
    "        # Initiate the first node into the list\n",
    "        nodes_list = [calc_new_node(zero_node,n,use_actual_cost)]\n",
    "\n",
    "        while len(nodes_list) >= 1: # As long as there is still nodes not ended\n",
    "\n",
    "            cur_node = nodes_list[-1] # Always process the last node\n",
    "            del nodes_list[-1] # Remove this node from list since it had been processed\n",
    "            \n",
    "            ## A very special case for spamming only 1 gear at 5star, node ended the moment it is created because it enter infinite case immediately\n",
    "            if cur_node.ended: continue\n",
    "                \n",
    "            n2_list = [x for x in range( 1 , cur_node.history[-1] + 1 )]\n",
    "            n2_list.reverse() # List of possible route to take (number of gear to use for starring for each route)\n",
    "\n",
    "            for n2 in n2_list: # Calc the next node for each route\n",
    "\n",
    "                temp_node = calc_new_node(cur_node,n2,use_actual_cost)\n",
    "\n",
    "                if temp_node.ended: # This node calculation is done, result can be reported !\n",
    "                    ended_nodes.append(temp_node)\n",
    "\n",
    "                else: # Incomplete node, add to nodes_list for further processing\n",
    "                    nodes_list.append(temp_node)\n",
    "                    \n",
    "    return ended_nodes\n"
   ]
  },
  {
   "cell_type": "markdown",
   "metadata": {},
   "source": [
    "\n",
    "# 1 STAR TO 2 STAR\n",
    "\n"
   ]
  },
  {
   "cell_type": "code",
   "execution_count": 10,
   "metadata": {},
   "outputs": [
    {
     "name": "stdout",
     "output_type": "stream",
     "text": [
      "n_list:  [1]\n",
      "cost_dict:  {1: 1, 2: 2}\n",
      "chance_dict:  {1: 0.5, 2: 1}\n"
     ]
    }
   ],
   "source": [
    "## 1star to 2 star\n",
    "\n",
    "count_list = [1,2]\n",
    "ActualCost_list = [1,2]\n",
    "success_chance_list = [0.5,1]\n",
    "\n",
    "chance_dict = {}\n",
    "cost_dict = {}\n",
    "\n",
    "for count,chance in zip(count_list,success_chance_list):\n",
    "    chance_dict[count] = chance\n",
    "    \n",
    "for count,cost in zip(count_list,ActualCost_list):\n",
    "    cost_dict[count] = cost\n",
    "    \n",
    "n_list = [n for n in reversed(range(1,len(count_list)))]\n",
    "\n",
    "print(\"n_list: \", n_list)\n",
    "print(\"cost_dict: \", cost_dict)\n",
    "print(\"chance_dict: \",chance_dict)"
   ]
  },
  {
   "cell_type": "code",
   "execution_count": 11,
   "metadata": {},
   "outputs": [
    {
     "name": "stdout",
     "output_type": "stream",
     "text": [
      "Avg = 1.7012 ; Route = [1, '+']\n"
     ]
    }
   ],
   "source": [
    "## Use \"Raw Cost\"\n",
    "\n",
    "all_routes_2star_raw = Find_Opt_Route(n_list, use_actual_cost=False)\n",
    "all_routes_2star_raw.sort(key=lambda x: x.cum_avg)\n",
    "\n",
    "for node in all_routes_2star_raw:\n",
    "    print(\"Avg = \" + str(\"{:.4f}\".format(node.cum_avg)) + \" ; Route = \" + str(Dump_Down_History(node.history)))"
   ]
  },
  {
   "cell_type": "code",
   "execution_count": 12,
   "metadata": {},
   "outputs": [
    {
     "name": "stdout",
     "output_type": "stream",
     "text": [
      "Avg = 1.7012 ; Route = ['0★', '+']\n"
     ]
    }
   ],
   "source": [
    "## Use \"Actual Cost\"\n",
    "\n",
    "all_routes_2star_act = Find_Opt_Route(n_list, use_actual_cost=True)\n",
    "all_routes_2star_act.sort(key=lambda x: x.cum_avg)\n",
    "\n",
    "for node in all_routes_2star_act:\n",
    "    \n",
    "    templist = [count_to_star_dict.get(item) if count_to_star_dict.get(item) != None else item for item in node.history]\n",
    "    print(\"Avg = \" + str(\"{:.4f}\".format(node.cum_avg)) + \" ; Route = \" + str(Dump_Down_History(templist)))"
   ]
  },
  {
   "cell_type": "code",
   "execution_count": null,
   "metadata": {},
   "outputs": [],
   "source": []
  },
  {
   "cell_type": "code",
   "execution_count": null,
   "metadata": {},
   "outputs": [],
   "source": []
  },
  {
   "cell_type": "code",
   "execution_count": null,
   "metadata": {},
   "outputs": [],
   "source": []
  },
  {
   "cell_type": "markdown",
   "metadata": {},
   "source": [
    "# 2 STAR TO 3 STAR\n"
   ]
  },
  {
   "cell_type": "code",
   "execution_count": 13,
   "metadata": {},
   "outputs": [
    {
     "name": "stdout",
     "output_type": "stream",
     "text": [
      "n_list:  [3, 2, 1]\n",
      "cost_dict:  {1: 1, 2: 2, 3: 3, 4: 3.7012}\n",
      "chance_dict:  {1: 0.25, 2: 0.5, 3: 0.75, 4: 1}\n"
     ]
    }
   ],
   "source": [
    "## 2star to 3 star\n",
    "\n",
    "count_list = [1,2,3,4]\n",
    "ActualCost_list = [1,2,3,3.7012]\n",
    "success_chance_list = [0.25,0.5,0.75,1]\n",
    "\n",
    "chance_dict = {}\n",
    "cost_dict = {}\n",
    "\n",
    "for count,chance in zip(count_list,success_chance_list):\n",
    "    chance_dict[count] = chance\n",
    "    \n",
    "for count,cost in zip(count_list,ActualCost_list):\n",
    "    cost_dict[count] = cost\n",
    "    \n",
    "n_list = [n for n in reversed(range(1,len(count_list)))]\n",
    "\n",
    "print(\"n_list: \", n_list)\n",
    "print(\"cost_dict: \", cost_dict)\n",
    "print(\"chance_dict: \",chance_dict)"
   ]
  },
  {
   "cell_type": "code",
   "execution_count": 14,
   "metadata": {},
   "outputs": [
    {
     "name": "stdout",
     "output_type": "stream",
     "text": [
      "Avg = 2.7954 ; Route = [1, '+']\n",
      "Avg = 3.0402 ; Route = [2, 1, '+']\n",
      "Avg = 3.2771 ; Route = [2, 2, 1, '+']\n",
      "Avg = 3.3806 ; Route = [2, 2, 2, 1, '+']\n",
      "Avg = 3.4019 ; Route = [2, 2, 2, 2, 1, '+']\n",
      "Avg = 3.4024 ; Route = [2, '+']\n",
      "Avg = 3.4509 ; Route = [3, 1, '+']\n",
      "Avg = 3.5904 ; Route = [3, 2, 1, '+']\n",
      "Avg = 3.6317 ; Route = [3, 2, 2, 1, '+']\n",
      "Avg = 3.6362 ; Route = [3, 2, '+']\n",
      "Avg = 3.7500 ; Route = [3, '+']\n"
     ]
    }
   ],
   "source": [
    "## Use Raw Cost\n",
    "\n",
    "all_routes_3star_raw = Find_Opt_Route(n_list)\n",
    "all_routes_3star_raw.sort(key=lambda x: x.cum_avg)\n",
    "\n",
    "for node in all_routes_3star_raw:\n",
    "    print(\"Avg = \" + str(\"{:.4f}\".format(node.cum_avg)) + \" ; Route = \" + str(Dump_Down_History(node.history)))"
   ]
  },
  {
   "cell_type": "code",
   "execution_count": 15,
   "metadata": {},
   "outputs": [
    {
     "name": "stdout",
     "output_type": "stream",
     "text": [
      "Avg = 2.7954 ; Route = ['0★', '+']\n",
      "Avg = 3.0402 ; Route = ['1★', '0★', '+']\n",
      "Avg = 3.2771 ; Route = ['1★', '1★', '0★', '+']\n",
      "Avg = 3.3806 ; Route = ['1★', '1★', '1★', '0★', '+']\n",
      "Avg = 3.4019 ; Route = ['1★', '1★', '1★', '1★', '0★', '+']\n",
      "Avg = 3.4024 ; Route = ['1★', '+']\n",
      "Avg = 3.4509 ; Route = ['1★+0★', '0★', '+']\n",
      "Avg = 3.5904 ; Route = ['1★+0★', '1★', '0★', '+']\n",
      "Avg = 3.6317 ; Route = ['1★+0★', '1★', '1★', '0★', '+']\n",
      "Avg = 3.6362 ; Route = ['1★+0★', '1★', '+']\n",
      "Avg = 3.7500 ; Route = ['1★+0★', '+']\n"
     ]
    }
   ],
   "source": [
    "# Use Actual cost\n",
    "\n",
    "all_routes_3star_act = Find_Opt_Route(n_list, use_actual_cost=True)\n",
    "all_routes_3star_act.sort(key=lambda x: x.cum_avg)\n",
    "\n",
    "for node in all_routes_3star_act:\n",
    "    \n",
    "    templist = [count_to_star_dict.get(item) if count_to_star_dict.get(item) != None else item for item in node.history]\n",
    "    print(\"Avg = \" + str(\"{:.4f}\".format(node.cum_avg)) + \" ; Route = \" + str(Dump_Down_History(templist)))"
   ]
  },
  {
   "cell_type": "code",
   "execution_count": null,
   "metadata": {},
   "outputs": [],
   "source": []
  },
  {
   "cell_type": "code",
   "execution_count": null,
   "metadata": {},
   "outputs": [],
   "source": []
  },
  {
   "cell_type": "code",
   "execution_count": null,
   "metadata": {},
   "outputs": [],
   "source": []
  },
  {
   "cell_type": "markdown",
   "metadata": {},
   "source": [
    "# 3 STAR TO 4 STAR\n"
   ]
  },
  {
   "cell_type": "code",
   "execution_count": 16,
   "metadata": {},
   "outputs": [
    {
     "name": "stdout",
     "output_type": "stream",
     "text": [
      "n_list:  [7, 6, 5, 4, 3, 2, 1]\n",
      "cost_dict:  {1: 1, 2: 2, 3: 3, 4: 3.7012, 5: 4.7012, 6: 5.7012, 7: 6.7012, 8: 6.4966}\n",
      "chance_dict:  {1: 0.1, 2: 0.25, 3: 0.37, 4: 0.5, 5: 0.62, 6: 0.75, 7: 0.87, 8: 1}\n"
     ]
    }
   ],
   "source": [
    "## 3star to 4star\n",
    "\n",
    "count_list = [1,2,3,4,5,6,7,8]\n",
    "ActualCost_list = [1,2,3,3.7012,4.7012,5.7012,6.7012,6.4966]\n",
    "success_chance_list = [0.1,0.25,0.37,0.5,0.62,0.75,0.87,1]\n",
    "\n",
    "chance_dict = {}\n",
    "cost_dict = {}\n",
    "\n",
    "for count,chance in zip(count_list,success_chance_list):\n",
    "    chance_dict[count] = chance\n",
    "    \n",
    "for count,cost in zip(count_list,ActualCost_list):\n",
    "    cost_dict[count] = cost\n",
    "    \n",
    "n_list = [n for n in reversed(range(1,len(count_list)))]\n",
    "\n",
    "print(\"n_list: \", n_list)\n",
    "print(\"cost_dict: \", cost_dict)\n",
    "print(\"chance_dict: \",chance_dict)"
   ]
  },
  {
   "cell_type": "code",
   "execution_count": 17,
   "metadata": {
    "scrolled": false
   },
   "outputs": [
    {
     "name": "stdout",
     "output_type": "stream",
     "text": [
      "Avg = 4.9947 ; Route = [2, 1, '+']\n",
      "Avg = 5.0977 ; Route = [2, 2, 1, '+']\n",
      "Avg = 5.2302 ; Route = [1, '+']\n",
      "Avg = 5.2344 ; Route = [3, 1, '+']\n",
      "Avg = 5.2807 ; Route = [2, 2, 2, 1, '+']\n",
      "Avg = 5.4006 ; Route = [3, 2, 1, '+']\n",
      "Avg = 5.4320 ; Route = [2, 2, 2, 2, 1, '+']\n",
      "Avg = 5.5242 ; Route = [2, 2, 2, 2, 2, 1, '+']\n",
      "Avg = 5.5684 ; Route = [2, 2, 2, 2, 2, 2, 1, '+']\n",
      "Avg = 5.5772 ; Route = [3, 2, 2, 1, '+']\n",
      "Avg = 5.5850 ; Route = [2, 2, 2, 2, 2, 2, 2, 1, '+']\n",
      "Avg = 5.5897 ; Route = [4, 1, '+']\n",
      "Avg = 5.5897 ; Route = [2, 2, 2, 2, 2, 2, 2, 2, 1, '+']\n",
      "Avg = 5.5907 ; Route = [2, 2, 2, 2, 2, 2, 2, 2, 2, 1, '+']\n",
      "Avg = 5.5908 ; Route = [2, 2, 2, 2, 2, 2, 2, 2, 2, 2, 1, '+']\n",
      "Avg = 5.5908 ; Route = [2, '+']\n",
      "Avg = 5.7004 ; Route = [3, 2, 2, 2, 1, '+']\n",
      "Avg = 5.7306 ; Route = [3, 3, 1, '+']\n",
      "Avg = 5.7668 ; Route = [3, 2, 2, 2, 2, 1, '+']\n",
      "Avg = 5.7718 ; Route = [4, 2, 1, '+']\n"
     ]
    }
   ],
   "source": [
    "## Use Raw Cost\n",
    "\n",
    "all_routes_4star_raw = Find_Opt_Route(n_list,use_actual_cost=False)\n",
    "all_routes_4star_raw.sort(key=lambda x: x.cum_avg)\n",
    "\n",
    "for node in all_routes_4star_raw[:20]:\n",
    "    print(\"Avg = \" + str(\"{:.4f}\".format(node.cum_avg)) + \" ; Route = \" + str(Dump_Down_History(node.history)))"
   ]
  },
  {
   "cell_type": "code",
   "execution_count": 18,
   "metadata": {
    "scrolled": true
   },
   "outputs": [
    {
     "name": "stdout",
     "output_type": "stream",
     "text": [
      "Avg = 4.9947 ; Route = ['1★', '0★', '+']\n",
      "Avg = 5.0977 ; Route = ['1★', '1★', '0★', '+']\n",
      "Avg = 5.2302 ; Route = ['0★', '+']\n",
      "Avg = 5.2344 ; Route = ['1★+0★', '0★', '+']\n",
      "Avg = 5.2807 ; Route = ['1★', '1★', '1★', '0★', '+']\n",
      "Avg = 5.2909 ; Route = ['2★', '0★', '+']\n",
      "Avg = 5.4006 ; Route = ['1★+0★', '1★', '0★', '+']\n",
      "Avg = 5.4320 ; Route = ['1★', '1★', '1★', '1★', '0★', '+']\n",
      "Avg = 5.4730 ; Route = ['2★', '1★', '0★', '+']\n",
      "Avg = 5.5242 ; Route = ['1★', '1★', '1★', '1★', '1★', '0★', '+']\n",
      "Avg = 5.5684 ; Route = ['1★', '1★', '1★', '1★', '1★', '1★', '0★', '+']\n",
      "Avg = 5.5772 ; Route = ['1★+0★', '1★', '1★', '0★', '+']\n",
      "Avg = 5.5850 ; Route = ['1★', '1★', '1★', '1★', '1★', '1★', '1★', '0★', '+']\n",
      "Avg = 5.5897 ; Route = ['1★', '1★', '1★', '1★', '1★', '1★', '1★', '1★', '0★', '+']\n",
      "Avg = 5.5907 ; Route = ['1★', '1★', '1★', '1★', '1★', '1★', '1★', '1★', '1★', '0★', '+']\n",
      "Avg = 5.5908 ; Route = ['1★', '1★', '1★', '1★', '1★', '1★', '1★', '1★', '1★', '1★', '0★', '+']\n",
      "Avg = 5.5908 ; Route = ['1★', '+']\n",
      "Avg = 5.6236 ; Route = ['2★', '1★', '1★', '0★', '+']\n",
      "Avg = 5.7004 ; Route = ['1★+0★', '1★', '1★', '1★', '0★', '+']\n",
      "Avg = 5.7153 ; Route = ['2★', '1★', '1★', '1★', '0★', '+']\n"
     ]
    }
   ],
   "source": [
    "## Use actual cost\n",
    "\n",
    "all_routes_4star_act = Find_Opt_Route(n_list, use_actual_cost=True)\n",
    "all_routes_4star_act.sort(key=lambda x: x.cum_avg)\n",
    "\n",
    "for node in all_routes_4star_act[:20]:\n",
    "    \n",
    "    templist = [count_to_star_dict.get(item) if count_to_star_dict.get(item) != None else item for item in node.history]\n",
    "    print(\"Avg = \" + str(\"{:.4f}\".format(node.cum_avg)) + \" ; Route = \" + str(Dump_Down_History(templist)))"
   ]
  },
  {
   "cell_type": "code",
   "execution_count": null,
   "metadata": {},
   "outputs": [],
   "source": []
  },
  {
   "cell_type": "code",
   "execution_count": null,
   "metadata": {},
   "outputs": [],
   "source": []
  },
  {
   "cell_type": "code",
   "execution_count": null,
   "metadata": {},
   "outputs": [],
   "source": []
  },
  {
   "cell_type": "markdown",
   "metadata": {},
   "source": [
    "# 4 STAR TO 5 STAR\n"
   ]
  },
  {
   "cell_type": "code",
   "execution_count": 19,
   "metadata": {},
   "outputs": [
    {
     "name": "stdout",
     "output_type": "stream",
     "text": [
      "n_list:  [15, 14, 13, 12, 11, 10, 9, 8, 7, 6, 5, 4, 3, 2, 1]\n",
      "cost_dict:  {1: 1, 2: 2, 3: 3, 4: 3.7012, 5: 4.7012, 6: 5.7012, 7: 6.7012, 8: 6.4966, 9: 7.4966, 10: 8.4966, 11: 9.4966, 12: 10.1978, 13: 11.1978, 14: 12.1978, 15: 13.1978, 16: 11.4913}\n",
      "chance_dict:  {1: 0.01, 2: 0.1, 3: 0.17, 4: 0.25, 5: 0.31, 6: 0.37, 7: 0.43, 8: 0.5, 9: 0.56, 10: 0.62, 11: 0.68, 12: 0.75, 13: 0.81, 14: 0.87, 15: 0.93, 16: 1}\n"
     ]
    }
   ],
   "source": [
    "## 4star to 5star\n",
    "\n",
    "count_list = [1,2,3,4,5,6,7,8,9,10,11,12,13,14,15,16]\n",
    "ActualCost_list = [1,2,3,3.7012,4.7012,5.7012,6.7012,6.4966,7.4966,8.4966,9.4966,10.1978,11.1978,12.1978,13.1978,11.4913]\n",
    "success_chance_list = [0.01,0.1,0.17,0.25,0.31,0.37,0.43,0.5,0.56,0.62,0.68,0.75,0.81,0.87,0.93,1]\n",
    "\n",
    "chance_dict = {}\n",
    "cost_dict = {}\n",
    "\n",
    "for count,chance in zip(count_list,success_chance_list):\n",
    "    chance_dict[count] = chance\n",
    "    \n",
    "for count,cost in zip(count_list,ActualCost_list):\n",
    "    cost_dict[count] = cost\n",
    "    \n",
    "n_list = [n for n in reversed(range(1,len(count_list)))]\n",
    "\n",
    "print(\"n_list: \", n_list)\n",
    "print(\"cost_dict: \", cost_dict)\n",
    "print(\"chance_dict: \",chance_dict)"
   ]
  },
  {
   "cell_type": "code",
   "execution_count": 20,
   "metadata": {
    "scrolled": true
   },
   "outputs": [
    {
     "name": "stdout",
     "output_type": "stream",
     "text": [
      "Avg = 9.7238 ; Route = [4, 2, 2, 2, 2, 1, '+']\n",
      "Avg = 9.7531 ; Route = [4, 2, 2, 2, 1, '+']\n",
      "Avg = 9.7655 ; Route = [4, 2, 2, 2, 2, 2, 1, '+']\n",
      "Avg = 9.8249 ; Route = [4, 2, 2, 2, 2, 2, 2, 1, '+']\n",
      "Avg = 9.8438 ; Route = [4, 3, 2, 2, 1, '+']\n",
      "Avg = 9.8643 ; Route = [4, 4, 2, 1, '+']\n",
      "Avg = 9.8717 ; Route = [4, 3, 2, 2, 2, 1, '+']\n",
      "Avg = 9.8792 ; Route = [4, 2, 2, 2, 2, 2, 2, 2, 1, '+']\n",
      "Avg = 9.8966 ; Route = [4, 4, 2, 2, 1, '+']\n",
      "Avg = 9.9067 ; Route = [5, 2, 2, 2, 1, '+']\n",
      "Avg = 9.9209 ; Route = [4, 2, 2, 2, 2, 2, 2, 2, 2, 1, '+']\n",
      "Avg = 9.9228 ; Route = [4, 3, 2, 1, '+']\n",
      "Avg = 9.9326 ; Route = [4, 3, 2, 2, 2, 2, 1, '+']\n",
      "Avg = 9.9341 ; Route = [5, 2, 2, 2, 2, 1, '+']\n",
      "Avg = 9.9495 ; Route = [4, 2, 2, 2, 2, 2, 2, 2, 2, 2, 1, '+']\n",
      "Avg = 9.9559 ; Route = [4, 4, 1, '+']\n",
      "Avg = 9.9672 ; Route = [4, 4, 2, 2, 2, 1, '+']\n",
      "Avg = 9.9676 ; Route = [4, 2, 2, 2, 2, 2, 2, 2, 2, 2, 2, 1, '+']\n",
      "Avg = 9.9690 ; Route = [4, 2, 2, 1, '+']\n",
      "Avg = 9.9783 ; Route = [4, 2, 2, 2, 2, 2, 2, 2, 2, 2, 2, 2, 1, '+']\n"
     ]
    }
   ],
   "source": [
    "## Use Raw cost\n",
    "\n",
    "all_routes_5star_raw = Find_Opt_Route(n_list)\n",
    "all_routes_5star_raw.sort(key=lambda x: x.cum_avg)\n",
    "\n",
    "for node in all_routes_5star_raw[:20]:\n",
    "    print(\"Avg = \" + str(\"{:.4f}\".format(node.cum_avg)) + \" ; Route = \" + str(Dump_Down_History(node.history)))\n",
    "    "
   ]
  },
  {
   "cell_type": "code",
   "execution_count": 21,
   "metadata": {},
   "outputs": [
    {
     "name": "stdout",
     "output_type": "stream",
     "text": [
      "Avg = 9.3414 ; Route = ['2★', '2★', '1★', '0★', '+']\n",
      "Avg = 9.3466 ; Route = ['3★', '1★', '0★', '+']\n",
      "Avg = 9.3737 ; Route = ['2★', '2★', '1★', '1★', '0★', '+']\n",
      "Avg = 9.3788 ; Route = ['3★', '1★', '1★', '0★', '+']\n",
      "Avg = 9.4250 ; Route = ['2★', '1★', '1★', '1★', '1★', '0★', '+']\n",
      "Avg = 9.4330 ; Route = ['2★', '2★', '0★', '+']\n",
      "Avg = 9.4378 ; Route = ['3★', '0★', '+']\n",
      "Avg = 9.4443 ; Route = ['2★', '2★', '1★', '1★', '1★', '0★', '+']\n",
      "Avg = 9.4491 ; Route = ['3★', '1★', '1★', '1★', '0★', '+']\n",
      "Avg = 9.4543 ; Route = ['2★', '1★', '1★', '1★', '0★', '+']\n",
      "Avg = 9.4667 ; Route = ['2★', '1★', '1★', '1★', '1★', '1★', '0★', '+']\n",
      "Avg = 9.5149 ; Route = ['2★', '2★', '1★+0★', '0★', '+']\n",
      "Avg = 9.5153 ; Route = ['2★', '2★', '1★', '1★', '1★', '1★', '0★', '+']\n",
      "Avg = 9.5193 ; Route = ['3★', '1★+0★', '0★', '+']\n",
      "Avg = 9.5197 ; Route = ['3★', '1★', '1★', '1★', '1★', '0★', '+']\n",
      "Avg = 9.5229 ; Route = ['2★', '2★', '2★', '0★', '+']\n",
      "Avg = 9.5261 ; Route = ['2★', '1★', '1★', '1★', '1★', '1★', '1★', '0★', '+']\n",
      "Avg = 9.5272 ; Route = ['3★', '2★', '0★', '+']\n",
      "Avg = 9.5450 ; Route = ['2★', '1★+0★', '1★', '1★', '0★', '+']\n",
      "Avg = 9.5724 ; Route = ['2★', '2★', '1★', '1★', '1★', '1★', '1★', '0★', '+']\n"
     ]
    }
   ],
   "source": [
    "## Use Actual Cost\n",
    "\n",
    "all_routes_5star_act = Find_Opt_Route(n_list, use_actual_cost=True)\n",
    "all_routes_5star_act.sort(key=lambda x: x.cum_avg)\n",
    "\n",
    "for node in all_routes_5star_act[:20]:\n",
    "    \n",
    "    templist = [count_to_star_dict.get(item) if count_to_star_dict.get(item) != None else item for item in node.history]\n",
    "    print(\"Avg = \" + str(\"{:.4f}\".format(node.cum_avg)) + \" ; Route = \" + str(Dump_Down_History(templist)))"
   ]
  },
  {
   "cell_type": "code",
   "execution_count": null,
   "metadata": {},
   "outputs": [],
   "source": []
  },
  {
   "cell_type": "code",
   "execution_count": null,
   "metadata": {},
   "outputs": [],
   "source": []
  },
  {
   "cell_type": "code",
   "execution_count": null,
   "metadata": {},
   "outputs": [],
   "source": []
  },
  {
   "cell_type": "code",
   "execution_count": 46,
   "metadata": {},
   "outputs": [
    {
     "name": "stdout",
     "output_type": "stream",
     "text": [
      "Actual Cost of 1star gear =  2\n",
      "Actual Cost of 2star gear =  3.7012\n",
      "Actual Cost of 3star gear =  6.4966\n",
      "Actual Cost of 4star gear =  11.491299999999999\n",
      "Actual Cost of 5star gear =  21.2151\n"
     ]
    }
   ],
   "source": [
    "## Using the \"Raw Cost\"\n",
    "\n",
    "print(\"Actual Cost of 1star gear = \", 2 )\n",
    "print(\"Actual Cost of 2star gear = \", 2 + 1.7012)\n",
    "print(\"Actual Cost of 3star gear = \", 2 + 1.7012 + 2.7954)\n",
    "print(\"Actual Cost of 4star gear = \", 2 + 1.7012 + 2.7954 + 4.9947)\n",
    "print(\"Actual Cost of 5star gear = \", 2 + 1.7012 + 2.7954 + 4.9947 + 9.7238)"
   ]
  },
  {
   "cell_type": "code",
   "execution_count": 47,
   "metadata": {},
   "outputs": [
    {
     "name": "stdout",
     "output_type": "stream",
     "text": [
      "Actual Cost of 1star gear =  2\n",
      "Actual Cost of 2star gear =  3.7012\n",
      "Actual Cost of 3star gear =  6.4966\n",
      "Actual Cost of 4star gear =  11.491299999999999\n",
      "Actual Cost of 5star gear =  20.8327\n"
     ]
    }
   ],
   "source": [
    "## Using the \"Actual Cost\"\n",
    "\n",
    "print(\"Actual Cost of 1star gear = \", 2 )\n",
    "print(\"Actual Cost of 2star gear = \", 2 + 1.7012)\n",
    "print(\"Actual Cost of 3star gear = \", 2 + 1.7012 + 2.7954)\n",
    "print(\"Actual Cost of 4star gear = \", 2 + 1.7012 + 2.7954 + 4.9947)\n",
    "print(\"Actual Cost of 5star gear = \", 2 + 1.7012 + 2.7954 + 4.9947 + 9.3414)"
   ]
  },
  {
   "cell_type": "code",
   "execution_count": null,
   "metadata": {},
   "outputs": [],
   "source": []
  },
  {
   "cell_type": "markdown",
   "metadata": {},
   "source": [
    "# Deeper look into one route\n",
    "\n",
    "For people who knows Python and want to look deeper into a single route. Note that for infinite route, while the real calculation of its average cost in decision-tree go down the route for 1000 time, the individual result from each node was only recorded for the first 30 times due to memory issue. \n",
    "\n",
    "All routes are saved in ascending order of its average cost in their respective list variable below:\n",
    "\n",
    "    1★ to 2★ (Raw Cost) = all_routes_2star_raw\n",
    "\n",
    "    1★ to 2★ (Actual Cost) = all_routes_2star_act\n",
    "    \n",
    "    2★ to 3★ (Raw Cost) = all_routes_3star_raw\n",
    "\n",
    "    2★ to 3★ (Actual Cost) = all_routes_3star_act\n",
    "    \n",
    "    3★ to 4★ (Raw Cost) = all_routes_4star_raw\n",
    "\n",
    "    3★ to 4★ (Actual Cost) = all_routes_4star_act\n",
    "    \n",
    "    4★ to 5★ (Raw Cost) = all_routes_5star_raw\n",
    "\n",
    "    4★ to 5★ (Actual Cost) = all_routes_5star_act\n",
    "    \n",
    "In python, you get the specific item from List by its index (first item, which is also the most optimized route, is indexed as 0, then follow by the 2nd most optimized route as index 1... and so on).\n",
    "\n",
    "Indexing is done by square bracket right behind the list, e.g: to get most optimized route for 4★ to 5★ (Raw Cost):\n",
    "\n",
    "    all_routes_5star_raw[0]"
   ]
  },
  {
   "cell_type": "code",
   "execution_count": 24,
   "metadata": {},
   "outputs": [],
   "source": [
    "import pandas as pd\n",
    "pd.set_option('display.float_format', lambda x: '%.5f' % x)"
   ]
  },
  {
   "cell_type": "code",
   "execution_count": 25,
   "metadata": {
    "scrolled": true
   },
   "outputs": [
    {
     "data": {
      "text/html": [
       "<div>\n",
       "<style scoped>\n",
       "    .dataframe tbody tr th:only-of-type {\n",
       "        vertical-align: middle;\n",
       "    }\n",
       "\n",
       "    .dataframe tbody tr th {\n",
       "        vertical-align: top;\n",
       "    }\n",
       "\n",
       "    .dataframe thead th {\n",
       "        text-align: right;\n",
       "    }\n",
       "</style>\n",
       "<table border=\"1\" class=\"dataframe\">\n",
       "  <thead>\n",
       "    <tr style=\"text-align: right;\">\n",
       "      <th></th>\n",
       "      <th>Fodder Used</th>\n",
       "      <th>Prob_Node</th>\n",
       "      <th>Cum_Prob</th>\n",
       "      <th>Total Used</th>\n",
       "    </tr>\n",
       "  </thead>\n",
       "  <tbody>\n",
       "    <tr>\n",
       "      <th>0</th>\n",
       "      <td>4</td>\n",
       "      <td>0.25000</td>\n",
       "      <td>0.25000</td>\n",
       "      <td>4</td>\n",
       "    </tr>\n",
       "    <tr>\n",
       "      <th>1</th>\n",
       "      <td>2</td>\n",
       "      <td>0.13500</td>\n",
       "      <td>0.38500</td>\n",
       "      <td>6</td>\n",
       "    </tr>\n",
       "    <tr>\n",
       "      <th>2</th>\n",
       "      <td>2</td>\n",
       "      <td>0.12915</td>\n",
       "      <td>0.51415</td>\n",
       "      <td>8</td>\n",
       "    </tr>\n",
       "    <tr>\n",
       "      <th>3</th>\n",
       "      <td>2</td>\n",
       "      <td>0.11660</td>\n",
       "      <td>0.63075</td>\n",
       "      <td>10</td>\n",
       "    </tr>\n",
       "    <tr>\n",
       "      <th>4</th>\n",
       "      <td>2</td>\n",
       "      <td>0.09970</td>\n",
       "      <td>0.73045</td>\n",
       "      <td>12</td>\n",
       "    </tr>\n",
       "    <tr>\n",
       "      <th>5</th>\n",
       "      <td>1</td>\n",
       "      <td>0.05661</td>\n",
       "      <td>0.78706</td>\n",
       "      <td>13</td>\n",
       "    </tr>\n",
       "    <tr>\n",
       "      <th>6</th>\n",
       "      <td>1</td>\n",
       "      <td>0.04472</td>\n",
       "      <td>0.83177</td>\n",
       "      <td>14</td>\n",
       "    </tr>\n",
       "    <tr>\n",
       "      <th>7</th>\n",
       "      <td>1</td>\n",
       "      <td>0.03533</td>\n",
       "      <td>0.86710</td>\n",
       "      <td>15</td>\n",
       "    </tr>\n",
       "    <tr>\n",
       "      <th>8</th>\n",
       "      <td>1</td>\n",
       "      <td>0.02791</td>\n",
       "      <td>0.89501</td>\n",
       "      <td>16</td>\n",
       "    </tr>\n",
       "    <tr>\n",
       "      <th>9</th>\n",
       "      <td>1</td>\n",
       "      <td>0.02205</td>\n",
       "      <td>0.91706</td>\n",
       "      <td>17</td>\n",
       "    </tr>\n",
       "    <tr>\n",
       "      <th>10</th>\n",
       "      <td>1</td>\n",
       "      <td>0.01742</td>\n",
       "      <td>0.93448</td>\n",
       "      <td>18</td>\n",
       "    </tr>\n",
       "    <tr>\n",
       "      <th>11</th>\n",
       "      <td>1</td>\n",
       "      <td>0.01376</td>\n",
       "      <td>0.94824</td>\n",
       "      <td>19</td>\n",
       "    </tr>\n",
       "    <tr>\n",
       "      <th>12</th>\n",
       "      <td>1</td>\n",
       "      <td>0.01087</td>\n",
       "      <td>0.95911</td>\n",
       "      <td>20</td>\n",
       "    </tr>\n",
       "    <tr>\n",
       "      <th>13</th>\n",
       "      <td>1</td>\n",
       "      <td>0.00859</td>\n",
       "      <td>0.96769</td>\n",
       "      <td>21</td>\n",
       "    </tr>\n",
       "    <tr>\n",
       "      <th>14</th>\n",
       "      <td>1</td>\n",
       "      <td>0.00678</td>\n",
       "      <td>0.97448</td>\n",
       "      <td>22</td>\n",
       "    </tr>\n",
       "    <tr>\n",
       "      <th>15</th>\n",
       "      <td>1</td>\n",
       "      <td>0.00536</td>\n",
       "      <td>0.97984</td>\n",
       "      <td>23</td>\n",
       "    </tr>\n",
       "    <tr>\n",
       "      <th>16</th>\n",
       "      <td>1</td>\n",
       "      <td>0.00423</td>\n",
       "      <td>0.98407</td>\n",
       "      <td>24</td>\n",
       "    </tr>\n",
       "    <tr>\n",
       "      <th>17</th>\n",
       "      <td>1</td>\n",
       "      <td>0.00334</td>\n",
       "      <td>0.98742</td>\n",
       "      <td>25</td>\n",
       "    </tr>\n",
       "    <tr>\n",
       "      <th>18</th>\n",
       "      <td>1</td>\n",
       "      <td>0.00264</td>\n",
       "      <td>0.99006</td>\n",
       "      <td>26</td>\n",
       "    </tr>\n",
       "    <tr>\n",
       "      <th>19</th>\n",
       "      <td>1</td>\n",
       "      <td>0.00209</td>\n",
       "      <td>0.99215</td>\n",
       "      <td>27</td>\n",
       "    </tr>\n",
       "    <tr>\n",
       "      <th>20</th>\n",
       "      <td>1</td>\n",
       "      <td>0.00165</td>\n",
       "      <td>0.99380</td>\n",
       "      <td>28</td>\n",
       "    </tr>\n",
       "    <tr>\n",
       "      <th>21</th>\n",
       "      <td>1</td>\n",
       "      <td>0.00130</td>\n",
       "      <td>0.99510</td>\n",
       "      <td>29</td>\n",
       "    </tr>\n",
       "    <tr>\n",
       "      <th>22</th>\n",
       "      <td>1</td>\n",
       "      <td>0.00103</td>\n",
       "      <td>0.99613</td>\n",
       "      <td>30</td>\n",
       "    </tr>\n",
       "    <tr>\n",
       "      <th>23</th>\n",
       "      <td>1</td>\n",
       "      <td>0.00081</td>\n",
       "      <td>0.99694</td>\n",
       "      <td>31</td>\n",
       "    </tr>\n",
       "    <tr>\n",
       "      <th>24</th>\n",
       "      <td>1</td>\n",
       "      <td>0.00064</td>\n",
       "      <td>0.99758</td>\n",
       "      <td>32</td>\n",
       "    </tr>\n",
       "    <tr>\n",
       "      <th>25</th>\n",
       "      <td>1</td>\n",
       "      <td>0.00051</td>\n",
       "      <td>0.99809</td>\n",
       "      <td>33</td>\n",
       "    </tr>\n",
       "    <tr>\n",
       "      <th>26</th>\n",
       "      <td>1</td>\n",
       "      <td>0.00040</td>\n",
       "      <td>0.99849</td>\n",
       "      <td>34</td>\n",
       "    </tr>\n",
       "    <tr>\n",
       "      <th>27</th>\n",
       "      <td>1</td>\n",
       "      <td>0.00032</td>\n",
       "      <td>0.99881</td>\n",
       "      <td>35</td>\n",
       "    </tr>\n",
       "    <tr>\n",
       "      <th>28</th>\n",
       "      <td>1</td>\n",
       "      <td>0.00025</td>\n",
       "      <td>0.99906</td>\n",
       "      <td>36</td>\n",
       "    </tr>\n",
       "    <tr>\n",
       "      <th>29</th>\n",
       "      <td>1</td>\n",
       "      <td>0.00020</td>\n",
       "      <td>0.99926</td>\n",
       "      <td>37</td>\n",
       "    </tr>\n",
       "    <tr>\n",
       "      <th>30</th>\n",
       "      <td>1</td>\n",
       "      <td>0.00016</td>\n",
       "      <td>0.99941</td>\n",
       "      <td>38</td>\n",
       "    </tr>\n",
       "    <tr>\n",
       "      <th>31</th>\n",
       "      <td>1</td>\n",
       "      <td>0.00012</td>\n",
       "      <td>0.99954</td>\n",
       "      <td>39</td>\n",
       "    </tr>\n",
       "    <tr>\n",
       "      <th>32</th>\n",
       "      <td>1</td>\n",
       "      <td>0.00010</td>\n",
       "      <td>0.99963</td>\n",
       "      <td>40</td>\n",
       "    </tr>\n",
       "    <tr>\n",
       "      <th>33</th>\n",
       "      <td>1</td>\n",
       "      <td>0.00008</td>\n",
       "      <td>0.99971</td>\n",
       "      <td>41</td>\n",
       "    </tr>\n",
       "    <tr>\n",
       "      <th>34</th>\n",
       "      <td>1</td>\n",
       "      <td>0.00006</td>\n",
       "      <td>0.99977</td>\n",
       "      <td>42</td>\n",
       "    </tr>\n",
       "    <tr>\n",
       "      <th>35</th>\n",
       "      <td>1</td>\n",
       "      <td>0.00005</td>\n",
       "      <td>0.99982</td>\n",
       "      <td>43</td>\n",
       "    </tr>\n",
       "  </tbody>\n",
       "</table>\n",
       "</div>"
      ],
      "text/plain": [
       "    Fodder Used  Prob_Node  Cum_Prob  Total Used\n",
       "0             4    0.25000   0.25000           4\n",
       "1             2    0.13500   0.38500           6\n",
       "2             2    0.12915   0.51415           8\n",
       "3             2    0.11660   0.63075          10\n",
       "4             2    0.09970   0.73045          12\n",
       "5             1    0.05661   0.78706          13\n",
       "6             1    0.04472   0.83177          14\n",
       "7             1    0.03533   0.86710          15\n",
       "8             1    0.02791   0.89501          16\n",
       "9             1    0.02205   0.91706          17\n",
       "10            1    0.01742   0.93448          18\n",
       "11            1    0.01376   0.94824          19\n",
       "12            1    0.01087   0.95911          20\n",
       "13            1    0.00859   0.96769          21\n",
       "14            1    0.00678   0.97448          22\n",
       "15            1    0.00536   0.97984          23\n",
       "16            1    0.00423   0.98407          24\n",
       "17            1    0.00334   0.98742          25\n",
       "18            1    0.00264   0.99006          26\n",
       "19            1    0.00209   0.99215          27\n",
       "20            1    0.00165   0.99380          28\n",
       "21            1    0.00130   0.99510          29\n",
       "22            1    0.00103   0.99613          30\n",
       "23            1    0.00081   0.99694          31\n",
       "24            1    0.00064   0.99758          32\n",
       "25            1    0.00051   0.99809          33\n",
       "26            1    0.00040   0.99849          34\n",
       "27            1    0.00032   0.99881          35\n",
       "28            1    0.00025   0.99906          36\n",
       "29            1    0.00020   0.99926          37\n",
       "30            1    0.00016   0.99941          38\n",
       "31            1    0.00012   0.99954          39\n",
       "32            1    0.00010   0.99963          40\n",
       "33            1    0.00008   0.99971          41\n",
       "34            1    0.00006   0.99977          42\n",
       "35            1    0.00005   0.99982          43"
      ]
     },
     "execution_count": 25,
     "metadata": {},
     "output_type": "execute_result"
    }
   ],
   "source": [
    "###  Input parameter   ###\n",
    "\n",
    "lookup_route = all_routes_5star_raw[0] # Which route to lookup\n",
    "raw = True # Is this route calculated with \"Raw Cost\", True or False\n",
    "\n",
    "\n",
    "###  Analysis  ###\n",
    "\n",
    "df = pd.DataFrame([lookup_route.history, lookup_route.cum_prob]).T\n",
    "df.columns = ['Fodder Used','Prob_Node']\n",
    "df[\"Cum_Prob\"] = df['Prob_Node'].cumsum()\n",
    "df[\"Total Used\"] = df['Fodder Used'].cumsum().astype(int)\n",
    "\n",
    "if not raw: \n",
    "    df[\"Fodder Used\"] = df[\"Fodder Used\"].replace(count_to_star_dict)\n",
    "else:\n",
    "    df['Fodder Used'] = df['Fodder Used'].astype(int)\n",
    "    \n",
    "df"
   ]
  },
  {
   "cell_type": "markdown",
   "metadata": {},
   "source": [
    "# Whole script ends here, beyond here are just some rough work during my script development process"
   ]
  },
  {
   "cell_type": "code",
   "execution_count": null,
   "metadata": {},
   "outputs": [],
   "source": []
  },
  {
   "cell_type": "code",
   "execution_count": null,
   "metadata": {},
   "outputs": [],
   "source": []
  },
  {
   "cell_type": "code",
   "execution_count": null,
   "metadata": {},
   "outputs": [],
   "source": []
  },
  {
   "cell_type": "code",
   "execution_count": null,
   "metadata": {},
   "outputs": [],
   "source": []
  },
  {
   "cell_type": "code",
   "execution_count": null,
   "metadata": {},
   "outputs": [],
   "source": []
  },
  {
   "cell_type": "code",
   "execution_count": null,
   "metadata": {},
   "outputs": [],
   "source": []
  },
  {
   "cell_type": "code",
   "execution_count": null,
   "metadata": {},
   "outputs": [],
   "source": []
  },
  {
   "cell_type": "code",
   "execution_count": null,
   "metadata": {},
   "outputs": [],
   "source": []
  },
  {
   "cell_type": "code",
   "execution_count": null,
   "metadata": {},
   "outputs": [],
   "source": []
  },
  {
   "cell_type": "code",
   "execution_count": null,
   "metadata": {},
   "outputs": [],
   "source": []
  },
  {
   "cell_type": "code",
   "execution_count": null,
   "metadata": {},
   "outputs": [],
   "source": []
  },
  {
   "cell_type": "code",
   "execution_count": 26,
   "metadata": {},
   "outputs": [
    {
     "data": {
      "text/plain": [
       "3.98581756"
      ]
     },
     "execution_count": 26,
     "metadata": {},
     "output_type": "execute_result"
    }
   ],
   "source": [
    "## manual validation with 5star route\n",
    "\n",
    "# 2star 2star 1star then spam 0star ; \n",
    "\n",
    "#finite_avg = (0.25*4)+(0.2475*8)+(0.13065*10) ## fodder make by 100% route\n",
    "finite_avg = (0.25*3.7012)+(0.2475*(3.7012*2))+(0.13065*((3.7012*2)+2)) ## fodder make by optimized route\n",
    "\n",
    "finite_avg"
   ]
  },
  {
   "cell_type": "code",
   "execution_count": 27,
   "metadata": {},
   "outputs": [
    {
     "data": {
      "text/plain": [
       "5.35553244"
      ]
     },
     "execution_count": 27,
     "metadata": {},
     "output_type": "execute_result"
    }
   ],
   "source": [
    "## brute force\n",
    "\n",
    "infinite_avg = 0\n",
    "#total_used = 10 ## fodder make by 100% route\n",
    "total_used = (3.7012*2 + 2)  ## fodder make by optimized route\n",
    "\n",
    "for n in range(1000):\n",
    "    \n",
    "    total_used += 1\n",
    "    cur_p = 0.75*0.67*0.74*(0.8**n)*0.2\n",
    "    #       ( 1-cum_prob )\n",
    "    \n",
    "    cur_avg = total_used*cur_p\n",
    "    infinite_avg += cur_avg\n",
    "    \n",
    "infinite_avg"
   ]
  },
  {
   "cell_type": "code",
   "execution_count": 28,
   "metadata": {},
   "outputs": [
    {
     "data": {
      "text/plain": [
       "9.34135"
      ]
     },
     "execution_count": 28,
     "metadata": {},
     "output_type": "execute_result"
    }
   ],
   "source": [
    "finite_avg + infinite_avg\n",
    "\n",
    "## Result matched with old guide"
   ]
  },
  {
   "cell_type": "code",
   "execution_count": 40,
   "metadata": {},
   "outputs": [
    {
     "data": {
      "text/plain": [
       "4.98368244"
      ]
     },
     "execution_count": 40,
     "metadata": {},
     "output_type": "execute_result"
    }
   ],
   "source": [
    "## old guide's calculus? Incremental cost of taking branch = 1/P - 1 , Total cost = N + 1/P - 1\n",
    "\n",
    "total_used = (3.7012*2 + 2)\n",
    "cost = total_used + (1/0.2) - 1\n",
    "prob = 1 - (0.25 + 0.2475 + 0.13065)\n",
    "\n",
    "infinite_avg_calculus = cost * prob\n",
    "infinite_avg_calculus\n",
    "## result do not match with brute force method and do not match with old guide final results"
   ]
  },
  {
   "cell_type": "code",
   "execution_count": 41,
   "metadata": {},
   "outputs": [
    {
     "data": {
      "text/plain": [
       "5.35553244"
      ]
     },
     "execution_count": 41,
     "metadata": {},
     "output_type": "execute_result"
    }
   ],
   "source": [
    "## By my intuition, Incremental cost of taking branch = 1/P , Total cost = N + 1/P\n",
    "\n",
    "total_used = (3.7012*2 + 2)\n",
    "cost = total_used + (1/0.2)\n",
    "prob = 1 - (0.25 + 0.2475 + 0.13065)\n",
    "\n",
    "infinite_avg_calculus = cost * prob\n",
    "infinite_avg_calculus\n",
    "\n",
    "## result now match with brute force method and also match with old guide final results"
   ]
  },
  {
   "cell_type": "code",
   "execution_count": 29,
   "metadata": {},
   "outputs": [
    {
     "data": {
      "text/plain": [
       "Node(history=[4], fail_bonus=0.08, cum_prob=[0.25], cum_avg=0.9253, ended=False)"
      ]
     },
     "execution_count": 29,
     "metadata": {},
     "output_type": "execute_result"
    }
   ],
   "source": [
    "test_node = calc_new_node(zero_node,4,USE_ACTUAL_COST=True)\n",
    "test_node"
   ]
  },
  {
   "cell_type": "code",
   "execution_count": 30,
   "metadata": {},
   "outputs": [
    {
     "data": {
      "text/plain": [
       "Node(history=[4, 4], fail_bonus=0.16, cum_prob=[0.25, 0.2475], cum_avg=2.757394, ended=False)"
      ]
     },
     "execution_count": 30,
     "metadata": {},
     "output_type": "execute_result"
    }
   ],
   "source": [
    "test_node = calc_new_node(test_node,4,USE_ACTUAL_COST=True)\n",
    "test_node"
   ]
  },
  {
   "cell_type": "code",
   "execution_count": 31,
   "metadata": {},
   "outputs": [
    {
     "data": {
      "text/plain": [
       "Node(history=[4, 4, 2], fail_bonus=0.19, cum_prob=[0.25, 0.2475, 0.13065], cum_avg=3.98581756, ended=False)"
      ]
     },
     "execution_count": 31,
     "metadata": {},
     "output_type": "execute_result"
    }
   ],
   "source": [
    "test_node = calc_new_node(test_node,2,True)\n",
    "test_node"
   ]
  },
  {
   "cell_type": "code",
   "execution_count": 32,
   "metadata": {
    "scrolled": true
   },
   "outputs": [
    {
     "data": {
      "text/plain": [
       "Node(history=[4, 4, 2, 1, 1, 1, 1, 1, 1, 1, 1, 1, 1, 1, 1, 1, 1, 1, 1, 1, 1, 1, 1, 1, 1, 1, 1, 1, 1, 1, 1, 1, 1, 1], fail_bonus=0.19, cum_prob=[0.25, 0.2475, 0.13065, 0.07437, 0.05949600000000001, 0.047596800000000015, 0.03807744000000002, 0.03046195200000001, 0.024369561600000006, 0.01949564928000001, 0.015596519424000005, 0.012477215539200007, 0.009981772431360005, 0.007985417945088006, 0.006388334356070404, 0.005110667484856324, 0.0040885339878850594, 0.0032708271903080476, 0.002616661752246438, 0.0020933294017971503, 0.0016746635214377208, 0.0013397308171501766, 0.0010717846537201413, 0.0008574277229761132, 0.0006859421783808905, 0.0005487537427047124, 0.00043900299416376994, 0.0003512023953310161, 0.0002809619162648128, 0.00022476953301185025, 0.00017981562640948022, 0.00014385250112758418, 0.00011508200090206737, 9.206560072165389e-05], cum_avg=9.34135, ended=True)"
      ]
     },
     "execution_count": 32,
     "metadata": {},
     "output_type": "execute_result"
    }
   ],
   "source": [
    "test_node = calc_new_node(test_node,1,True)\n",
    "test_node"
   ]
  },
  {
   "cell_type": "code",
   "execution_count": null,
   "metadata": {},
   "outputs": [],
   "source": []
  },
  {
   "cell_type": "code",
   "execution_count": 42,
   "metadata": {},
   "outputs": [
    {
     "data": {
      "text/plain": [
       "Node(history=[4], fail_bonus=0.08, cum_prob=[0.25], cum_avg=1.0, ended=False)"
      ]
     },
     "execution_count": 42,
     "metadata": {},
     "output_type": "execute_result"
    }
   ],
   "source": [
    "test_node = calc_new_node(zero_node,4,USE_ACTUAL_COST=False)\n",
    "test_node"
   ]
  },
  {
   "cell_type": "code",
   "execution_count": 43,
   "metadata": {},
   "outputs": [
    {
     "data": {
      "text/plain": [
       "Node(history=[4, 4], fail_bonus=0.16, cum_prob=[0.25, 0.2475], cum_avg=2.832094, ended=False)"
      ]
     },
     "execution_count": 43,
     "metadata": {},
     "output_type": "execute_result"
    }
   ],
   "source": [
    "test_node = calc_new_node(test_node,4,USE_ACTUAL_COST=True)\n",
    "test_node"
   ]
  },
  {
   "cell_type": "code",
   "execution_count": 44,
   "metadata": {},
   "outputs": [
    {
     "data": {
      "text/plain": [
       "Node(history=[4, 4, 2], fail_bonus=0.19, cum_prob=[0.25, 0.2475, 0.13065], cum_avg=4.06051756, ended=False)"
      ]
     },
     "execution_count": 44,
     "metadata": {},
     "output_type": "execute_result"
    }
   ],
   "source": [
    "test_node = calc_new_node(test_node,2,True)\n",
    "test_node"
   ]
  },
  {
   "cell_type": "code",
   "execution_count": 45,
   "metadata": {
    "scrolled": true
   },
   "outputs": [
    {
     "data": {
      "text/plain": [
       "Node(history=[4, 4, 2, 1, 1, 1, 1, 1, 1, 1, 1, 1, 1, 1, 1, 1, 1, 1, 1, 1, 1, 1, 1, 1, 1, 1, 1, 1, 1, 1, 1, 1, 1, 1], fail_bonus=0.19, cum_prob=[0.25, 0.2475, 0.13065, 0.07437, 0.05949600000000001, 0.047596800000000015, 0.03807744000000002, 0.03046195200000001, 0.024369561600000006, 0.01949564928000001, 0.015596519424000005, 0.012477215539200007, 0.009981772431360005, 0.007985417945088006, 0.006388334356070404, 0.005110667484856324, 0.0040885339878850594, 0.0032708271903080476, 0.002616661752246438, 0.0020933294017971503, 0.0016746635214377208, 0.0013397308171501766, 0.0010717846537201413, 0.0008574277229761132, 0.0006859421783808905, 0.0005487537427047124, 0.00043900299416376994, 0.0003512023953310161, 0.0002809619162648128, 0.00022476953301185025, 0.00017981562640948022, 0.00014385250112758418, 0.00011508200090206737, 9.206560072165389e-05], cum_avg=9.41605, ended=True)"
      ]
     },
     "execution_count": 45,
     "metadata": {},
     "output_type": "execute_result"
    }
   ],
   "source": [
    "test_node = calc_new_node(test_node,1,True)\n",
    "test_node"
   ]
  },
  {
   "cell_type": "code",
   "execution_count": null,
   "metadata": {},
   "outputs": [],
   "source": []
  },
  {
   "cell_type": "code",
   "execution_count": null,
   "metadata": {},
   "outputs": [],
   "source": []
  },
  {
   "cell_type": "code",
   "execution_count": null,
   "metadata": {},
   "outputs": [],
   "source": []
  },
  {
   "cell_type": "code",
   "execution_count": null,
   "metadata": {},
   "outputs": [],
   "source": []
  },
  {
   "cell_type": "code",
   "execution_count": null,
   "metadata": {},
   "outputs": [],
   "source": []
  },
  {
   "cell_type": "markdown",
   "metadata": {},
   "source": [
    "# Old System 4 star to 5 star"
   ]
  },
  {
   "cell_type": "code",
   "execution_count": 152,
   "metadata": {},
   "outputs": [
    {
     "name": "stdout",
     "output_type": "stream",
     "text": [
      "n_list:  [8, 4, 2, 1]\n",
      "cost_dict:  {1: 1, 2: 2, 4: 3.7012, 8: 6.4966, 16: 11.4913}\n",
      "chance_dict:  {1: 0.01, 2: 0.1, 4: 0.25, 8: 0.5, 16: 1}\n"
     ]
    }
   ],
   "source": [
    "## 4star to 5star (old system)\n",
    "\n",
    "count_list = [1,2,4,8,16]\n",
    "ActualCost_list = [1,2,3.7012,6.4966,11.4913] \n",
    "success_chance_list = [0.01,0.1,0.25,0.5,1]\n",
    "\n",
    "chance_dict = {}\n",
    "cost_dict = {}\n",
    "\n",
    "for count,chance in zip(count_list,success_chance_list):\n",
    "    chance_dict[count] = chance\n",
    "    \n",
    "for count,cost in zip(count_list,ActualCost_list):\n",
    "    cost_dict[count] = cost\n",
    "    \n",
    "n_list = [8,4,2,1]\n",
    "\n",
    "print(\"n_list: \", n_list)\n",
    "print(\"cost_dict: \", cost_dict)\n",
    "print(\"chance_dict: \",chance_dict)"
   ]
  },
  {
   "cell_type": "code",
   "execution_count": null,
   "metadata": {},
   "outputs": [],
   "source": [
    "ended_nodes = []\n",
    "use_actual_cost = False\n",
    "\n",
    "for n in n_list: ## Different starting point\n",
    "\n",
    "    # Initiate the first node into the list\n",
    "    nodes_list = [calc_new_node(zero_node,n,use_actual_cost)]\n",
    "\n",
    "    while len(nodes_list) >= 1: # As long as there is still nodes not ended\n",
    "\n",
    "        cur_node = nodes_list[-1] # Always process the last node\n",
    "        del nodes_list[-1] # Remove this node from list since it had been processed\n",
    "\n",
    "        ## A very special case for spamming only 1 gear at 5star, node ended the moment it is created because it enter infinite case immediately\n",
    "        if cur_node.ended: continue\n",
    "\n",
    "        n2_list = n_list[n_list.index(cur_node.history[-1]):]\n",
    "        n2_list.reverse() # List of possible route to take (number of gear to use for starring for each route)\n",
    "\n",
    "        for n2 in n2_list: # Calc the next node for each route\n",
    "\n",
    "            temp_node = calc_new_node(cur_node,n2,use_actual_cost)\n",
    "\n",
    "            if temp_node.ended: # This node calculation is done, result can be reported !\n",
    "                ended_nodes.append(temp_node)\n",
    "\n",
    "            else: # Incomplete node, add to nodes_list for further processing\n",
    "                nodes_list.append(temp_node)\n",
    "\n",
    "ended_nodes.sort(key=lambda x: x.cum_avg)\n",
    "for node in ended_nodes:\n",
    "    print(\"Avg = \" + str(node.cum_avg) + \" ; Route = \" + str(Dump_Down_History(node.history)))"
   ]
  },
  {
   "cell_type": "code",
   "execution_count": null,
   "metadata": {},
   "outputs": [],
   "source": [
    "ended_nodes = []\n",
    "use_actual_cost = True\n",
    "\n",
    "for n in n_list: ## Different starting point\n",
    "\n",
    "    # Initiate the first node into the list\n",
    "    nodes_list = [calc_new_node(zero_node,n,use_actual_cost)]\n",
    "\n",
    "    while len(nodes_list) >= 1: # As long as there is still nodes not ended\n",
    "\n",
    "        cur_node = nodes_list[-1] # Always process the last node\n",
    "        del nodes_list[-1] # Remove this node from list since it had been processed\n",
    "\n",
    "        ## A very special case for spamming only 1 gear at 5star, node ended the moment it is created because it enter infinite case immediately\n",
    "        if cur_node.ended: continue\n",
    "\n",
    "        n2_list = n_list[n_list.index(cur_node.history[-1]):]\n",
    "        n2_list.reverse() # List of possible route to take (number of gear to use for starring for each route)\n",
    "\n",
    "        for n2 in n2_list: # Calc the next node for each route\n",
    "\n",
    "            temp_node = calc_new_node(cur_node,n2,use_actual_cost)\n",
    "\n",
    "            if temp_node.ended: # This node calculation is done, result can be reported !\n",
    "                ended_nodes.append(temp_node)\n",
    "\n",
    "            else: # Incomplete node, add to nodes_list for further processing\n",
    "                nodes_list.append(temp_node)\n",
    "\n",
    "ended_nodes.sort(key=lambda x: x.cum_avg)\n",
    "for node in all_routes:\n",
    "    \n",
    "    templist = [count_to_star_dict.get(item) if count_to_star_dict.get(item) != None else item for item in node.history]\n",
    "    print(\"Avg = \" + str(node.cum_avg) + \" ; Route = \" + str(Dump_Down_History(templist)))"
   ]
  },
  {
   "cell_type": "code",
   "execution_count": 105,
   "metadata": {},
   "outputs": [
    {
     "data": {
      "text/plain": [
       "[8, 4, 2, 1]"
      ]
     },
     "execution_count": 105,
     "metadata": {},
     "output_type": "execute_result"
    }
   ],
   "source": [
    "n_list[n_list.index(8):]"
   ]
  },
  {
   "cell_type": "code",
   "execution_count": null,
   "metadata": {},
   "outputs": [],
   "source": []
  },
  {
   "cell_type": "code",
   "execution_count": 92,
   "metadata": {},
   "outputs": [
    {
     "name": "stdout",
     "output_type": "stream",
     "text": [
      "1.701212 [1, 1, 1, 1, 1]\n"
     ]
    }
   ],
   "source": [
    "for node in ended_nodes:\n",
    "    print(node.cum_avg,node.history)"
   ]
  },
  {
   "cell_type": "code",
   "execution_count": 81,
   "metadata": {},
   "outputs": [
    {
     "data": {
      "text/plain": [
       "11"
      ]
     },
     "execution_count": 81,
     "metadata": {},
     "output_type": "execute_result"
    }
   ],
   "source": [
    "len(ended_nodes)"
   ]
  },
  {
   "cell_type": "code",
   "execution_count": null,
   "metadata": {},
   "outputs": [],
   "source": []
  },
  {
   "cell_type": "code",
   "execution_count": 71,
   "metadata": {},
   "outputs": [
    {
     "data": {
      "text/plain": [
       "Node(history=[3], fail_bonus=0.25, cum_prob=0.75, cum_avg=2.25, ended=False)"
      ]
     },
     "execution_count": 71,
     "metadata": {},
     "output_type": "execute_result"
    }
   ],
   "source": [
    "node1 = calc_new_node(zero_node,3)\n",
    "node1"
   ]
  },
  {
   "cell_type": "code",
   "execution_count": 74,
   "metadata": {},
   "outputs": [
    {
     "data": {
      "text/plain": [
       "Node(history=[3, 3], fail_bonus=0.5, cum_prob=1.0, cum_avg=3.75, ended=True)"
      ]
     },
     "execution_count": 74,
     "metadata": {},
     "output_type": "execute_result"
    }
   ],
   "source": [
    "node2 = calc_new_node(node1,3)\n",
    "node2"
   ]
  },
  {
   "cell_type": "code",
   "execution_count": 82,
   "metadata": {},
   "outputs": [
    {
     "name": "stdout",
     "output_type": "stream",
     "text": [
      "Node(history=[3, 3], fail_bonus=0.5, cum_prob=1.0, cum_avg=3.75, ended=True)\n"
     ]
    }
   ],
   "source": [
    "print(node2)"
   ]
  },
  {
   "cell_type": "code",
   "execution_count": 16,
   "metadata": {},
   "outputs": [
    {
     "data": {
      "text/plain": [
       "1"
      ]
     },
     "execution_count": 16,
     "metadata": {},
     "output_type": "execute_result"
    }
   ],
   "source": [
    "min(1.1,1)"
   ]
  },
  {
   "cell_type": "code",
   "execution_count": null,
   "metadata": {},
   "outputs": [],
   "source": []
  },
  {
   "cell_type": "code",
   "execution_count": 19,
   "metadata": {},
   "outputs": [
    {
     "data": {
      "text/plain": [
       "True"
      ]
     },
     "execution_count": 19,
     "metadata": {},
     "output_type": "execute_result"
    }
   ],
   "source": [
    "cur_chance = 1.1\n",
    "x = cur_chance >= 1\n",
    "\n",
    "x"
   ]
  },
  {
   "cell_type": "code",
   "execution_count": null,
   "metadata": {},
   "outputs": [],
   "source": []
  },
  {
   "cell_type": "code",
   "execution_count": 51,
   "metadata": {},
   "outputs": [],
   "source": [
    "def Round_Down(float_number):\n",
    "    return (int(float_number*100))/100"
   ]
  },
  {
   "cell_type": "code",
   "execution_count": 58,
   "metadata": {},
   "outputs": [
    {
     "data": {
      "text/plain": [
       "0.03"
      ]
     },
     "execution_count": 58,
     "metadata": {},
     "output_type": "execute_result"
    }
   ],
   "source": [
    "Round_Down(0.1/3)"
   ]
  },
  {
   "cell_type": "code",
   "execution_count": null,
   "metadata": {},
   "outputs": [],
   "source": []
  },
  {
   "cell_type": "code",
   "execution_count": null,
   "metadata": {},
   "outputs": [],
   "source": []
  },
  {
   "cell_type": "code",
   "execution_count": 78,
   "metadata": {},
   "outputs": [
    {
     "data": {
      "text/plain": [
       "99.95251162784835"
      ]
     },
     "execution_count": 78,
     "metadata": {},
     "output_type": "execute_result"
    }
   ],
   "source": [
    "infinite_avg = 0\n",
    "total_used = 0  ## fodder make by cheat route\n",
    "\n",
    "for n in range(1000):\n",
    "    \n",
    "    total_used += 1\n",
    "    cur_p = (0.99**n)*0.01\n",
    "    \n",
    "    cur_avg = total_used*cur_p\n",
    "    infinite_avg += cur_avg\n",
    "    \n",
    "infinite_avg"
   ]
  },
  {
   "cell_type": "code",
   "execution_count": 50,
   "metadata": {},
   "outputs": [
    {
     "data": {
      "text/plain": [
       "100.0"
      ]
     },
     "execution_count": 50,
     "metadata": {},
     "output_type": "execute_result"
    }
   ],
   "source": [
    "1/0.01"
   ]
  },
  {
   "cell_type": "code",
   "execution_count": 61,
   "metadata": {},
   "outputs": [
    {
     "data": {
      "text/plain": [
       "10.1978"
      ]
     },
     "execution_count": 61,
     "metadata": {},
     "output_type": "execute_result"
    }
   ],
   "source": [
    "6.4966+3.7012"
   ]
  },
  {
   "cell_type": "code",
   "execution_count": 72,
   "metadata": {},
   "outputs": [],
   "source": [
    "d = {1:1,2:2,3:3,4:3.7}\n",
    "l = [5,4,4,2,2,1]"
   ]
  },
  {
   "cell_type": "code",
   "execution_count": 118,
   "metadata": {},
   "outputs": [
    {
     "data": {
      "text/plain": [
       "[5, 3.7, 3.7, 2, 2, 1]"
      ]
     },
     "execution_count": 118,
     "metadata": {},
     "output_type": "execute_result"
    }
   ],
   "source": [
    "[d.get(item) if d.get(item)!=None else item for item in l]"
   ]
  },
  {
   "cell_type": "code",
   "execution_count": 68,
   "metadata": {},
   "outputs": [
    {
     "data": {
      "text/plain": [
       "3.7"
      ]
     },
     "execution_count": 68,
     "metadata": {},
     "output_type": "execute_result"
    }
   ],
   "source": [
    "d.get(4)"
   ]
  },
  {
   "cell_type": "code",
   "execution_count": 80,
   "metadata": {},
   "outputs": [
    {
     "data": {
      "text/plain": [
       "[5, 4, 3, 2, 1, '+']"
      ]
     },
     "execution_count": 80,
     "metadata": {},
     "output_type": "execute_result"
    }
   ],
   "source": [
    "Dump_Down_History([5,4,3,2,1,1])"
   ]
  },
  {
   "cell_type": "code",
   "execution_count": 63,
   "metadata": {},
   "outputs": [
    {
     "data": {
      "text/plain": [
       "[1, 2, 3, 4]"
      ]
     },
     "execution_count": 63,
     "metadata": {},
     "output_type": "execute_result"
    }
   ],
   "source": [
    "l = [1,2,3,4,5]\n",
    "l[:-1]"
   ]
  },
  {
   "cell_type": "code",
   "execution_count": null,
   "metadata": {},
   "outputs": [],
   "source": []
  }
 ],
 "metadata": {
  "kernelspec": {
   "display_name": "Python 3",
   "language": "python",
   "name": "python3"
  },
  "language_info": {
   "codemirror_mode": {
    "name": "ipython",
    "version": 3
   },
   "file_extension": ".py",
   "mimetype": "text/x-python",
   "name": "python",
   "nbconvert_exporter": "python",
   "pygments_lexer": "ipython3",
   "version": "3.8.3"
  }
 },
 "nbformat": 4,
 "nbformat_minor": 2
}
